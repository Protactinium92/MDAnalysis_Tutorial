{
 "cells": [
  {
   "cell_type": "markdown",
   "metadata": {},
   "source": [
    "# Molecular dynamics analysis of the BCL-xl APO form"
   ]
  },
  {
   "cell_type": "markdown",
   "metadata": {},
   "source": [
    "## Installation & Import"
   ]
  },
  {
   "cell_type": "markdown",
   "metadata": {},
   "source": [
    "The MDAnalysis package can be isntall with:\n",
    "-   ```bash\n",
    "    conda install -c conda-forge mdanalysis\n",
    "    ```\n",
    "-   ```bash\n",
    "    pip install MDAnalysis\n",
    "    ```"
   ]
  },
  {
   "cell_type": "markdown",
   "metadata": {},
   "source": [
    "Optional packge for the visualization of the protein `nglview`:\n",
    "-   ```bash\n",
    "    conda install -c conda-forge nglview\n",
    "    ```\n",
    "-   ```bash\n",
    "    pip install nglview\n",
    "    ```"
   ]
  },
  {
   "cell_type": "code",
   "execution_count": 2,
   "metadata": {},
   "outputs": [
    {
     "name": "stderr",
     "output_type": "stream",
     "text": [
      "/home/sdv/m2isdd/pho/.conda/envs/md-analysis/lib/python3.12/site-packages/tqdm/auto.py:21: TqdmWarning: IProgress not found. Please update jupyter and ipywidgets. See https://ipywidgets.readthedocs.io/en/stable/user_install.html\n",
      "  from .autonotebook import tqdm as notebook_tqdm\n"
     ]
    }
   ],
   "source": [
    "import MDAnalysis as mda\n",
    "import pandas as pd \n",
    "import numpy as np\n",
    "import matplotlib.pyplot as plt\n",
    "%matplotlib inline"
   ]
  },
  {
   "cell_type": "markdown",
   "metadata": {},
   "source": [
    "This tutorial was done with the vesrion 2.7.0, last uptdate Feb, 2024"
   ]
  },
  {
   "cell_type": "markdown",
   "metadata": {},
   "source": [
    "## MDAnalysis Basics"
   ]
  },
  {
   "cell_type": "markdown",
   "metadata": {},
   "source": [
    "### Universe"
   ]
  },
  {
   "cell_type": "markdown",
   "metadata": {},
   "source": [
    "Structure in two class:  \n",
    "-   `Universe`\n",
    "-   `AtomGroup`  \n",
    "\n",
    "Every analysis have to start by the definition of the `Universe` which contains all the informations describing a MD system.\n",
    "\n",
    "To load the universe:  \n",
    "  \n",
    "```python\n",
    "u = mda.Universe(\"topology_file\", \"trajectory_file\")\n",
    "\n",
    "# Use one file\n",
    "# In that case the PDB file is considere as both topology and trajectory\n",
    "u = mda.Universe(\"PDB_file\")\n",
    "\n",
    "# Use a list of trajectory\n",
    "u = mda.Universe(\"topology_file\", [traj1, traj2, ... trajn])\n",
    "```\n",
    "  \n",
    "The `Universe` has 2 key proterties:  \n",
    "-   `atoms` (belong the `AtomGroup` class) ==> provide access to important analysis\n",
    "-   `trajectory` ==> Contain the trajectory\n",
    "    -   The advantage of MDAnalys is that not all the trajectory is charged saving memory space\n",
    "\n",
    "The `Universe` allows to link between:\n",
    "-   topologies files ==> Statics information of the atoms\n",
    "    -   Namen mass, type\n",
    "    -   Covalent bonds (connectivity table)\n",
    "    -   angles and dihedrals\n",
    "    -    ...\n",
    "    - format:\n",
    "        - Gromax: `.tpr`\n",
    "        - PDB\n",
    "-   trajectory ==> dynamic information\n",
    "    -   atoms coordinates for each frame ($\\delta$ t)\n",
    "    -   velocity, force, box dimension\n",
    "    -   With gromax it is a binary format\n",
    "        - output: `file.xtc`\n",
    "\n",
    "Notice:\n",
    "-   The trajoectory must have the coordinates in the sames order than the topology file\n",
    "-   MDAnalysis stores trajectories using its internal units: Å (ångström) for length and ps (picosecond) for time, regardless of the original MD data format."
   ]
  },
  {
   "cell_type": "code",
   "execution_count": 3,
   "metadata": {},
   "outputs": [
    {
     "name": "stderr",
     "output_type": "stream",
     "text": [
      "/home/sdv/m2isdd/pho/.conda/envs/md-analysis/lib/python3.12/site-packages/MDAnalysis/coordinates/XDR.py:240: UserWarning: Reload offsets from trajectory\n",
      " ctime or size or n_atoms did not match\n",
      "  warnings.warn(\"Reload offsets from trajectory\\n \"\n"
     ]
    }
   ],
   "source": [
    "topology_file = \"nvt_onlyProt.gro\"\n",
    "trajectory_file = \"mb_0_1_noPBC_onlyprot.xtc\"\n",
    "\n",
    "u = mda.Universe(topology_file, trajectory_file)"
   ]
  },
  {
   "cell_type": "code",
   "execution_count": 4,
   "metadata": {},
   "outputs": [
    {
     "data": {
      "text/plain": [
       "10.0"
      ]
     },
     "execution_count": 4,
     "metadata": {},
     "output_type": "execute_result"
    }
   ],
   "source": [
    "# Check the time step ps\n",
    "u.trajectory.dt"
   ]
  },
  {
   "cell_type": "markdown",
   "metadata": {},
   "source": [
    "In MDAnalysis the Universe is divide in container as follow:  \n",
    "- `Segment` > `Résidu` > `Atoms`\n",
    "\n",
    "Every object belongs to its own class:\n",
    "- `Segment` --> `SegmentGroup`\n",
    "- `Residue` --> `ResidueGroup`\n",
    "- `Atoms`--> `AtomGroup`"
   ]
  },
  {
   "cell_type": "markdown",
   "metadata": {},
   "source": [
    "Object of the Universe:"
   ]
  },
  {
   "cell_type": "code",
   "execution_count": 5,
   "metadata": {},
   "outputs": [
    {
     "data": {
      "text/plain": [
       "<AtomGroup with 2661 atoms>"
      ]
     },
     "execution_count": 5,
     "metadata": {},
     "output_type": "execute_result"
    }
   ],
   "source": [
    "# All atoms in the system\n",
    "u.atoms"
   ]
  },
  {
   "cell_type": "markdown",
   "metadata": {},
   "source": [
    "*This object belong to `AtomGroup` class* "
   ]
  },
  {
   "cell_type": "code",
   "execution_count": 6,
   "metadata": {},
   "outputs": [
    {
     "data": {
      "text/plain": [
       "<ResidueGroup with 170 residues>"
      ]
     },
     "execution_count": 6,
     "metadata": {},
     "output_type": "execute_result"
    }
   ],
   "source": [
    "# All Residues in the system\n",
    "u.residues"
   ]
  },
  {
   "cell_type": "code",
   "execution_count": 7,
   "metadata": {},
   "outputs": [
    {
     "data": {
      "text/plain": [
       "<SegmentGroup with 1 segment>"
      ]
     },
     "execution_count": 7,
     "metadata": {},
     "output_type": "execute_result"
    }
   ],
   "source": [
    "# All segments in the system\n",
    "u.segments"
   ]
  },
  {
   "cell_type": "markdown",
   "metadata": {},
   "source": [
    "All bonds, angles, dihedrals & impropers in the system as `TopologyObjects` if there are these information\n",
    "\n",
    "```python\n",
    "u.bonds\n",
    "u.angles\n",
    "u.dihedrals\n",
    "u.impropers\n",
    "```"
   ]
  },
  {
   "cell_type": "markdown",
   "metadata": {},
   "source": [
    "Possibility to create a universe from differents `AtomGroup` class\n",
    "\n",
    "```python\n",
    "from MDAnalysis.core.universe import Merge()\n",
    "\n",
    "u1 = mda.Universe(\"PDB_file1\")\n",
    "u2 = mda.Universe(\"PDB_file2\")\n",
    "u = Merge(u1.atoms, u2.atoms)\n",
    "```"
   ]
  },
  {
   "cell_type": "markdown",
   "metadata": {},
   "source": [
    "### AtomGroup"
   ]
  },
  {
   "cell_type": "markdown",
   "metadata": {},
   "source": [
    "An `Universe` contain all the particlue of the system.  \n",
    "A particlue is called **atom** whether it really is ==> e.g. coarse grain bead\n",
    "\n",
    "A selection of **Atoms** are grouped in an `AtomGroup`. This class is the most important object in MDAnlysis since everything is accessible through it."
   ]
  },
  {
   "cell_type": "markdown",
   "metadata": {},
   "source": [
    "#### Selection of AtomGroup"
   ]
  },
  {
   "cell_type": "markdown",
   "metadata": {},
   "source": [
    "##### Selection by keywords"
   ]
  },
  {
   "cell_type": "markdown",
   "metadata": {},
   "source": [
    "An `AtomGroup` can be selected with keywords and the function `.selecte_atoms(\"keyword selection\")`  \n",
    "\n",
    "Some notable important keywords selection:\n",
    "-   `protein` ==> Select all atoms of the protien\n",
    "-   `backbone` ==> Select only the backbone atoms of the protein\n",
    "    -   Atom's name: CA, C, O, N\n",
    "-   `resname RESIDUE_NAME` ==> All atom of all the given residue ex: `resname GLY`\n",
    "-   `resnum` ==> All atom on a single or a range of residue\n",
    "    -   Single residue: `resnum 1`\n",
    "    -   Range, 2 number separate by `:` **inclusive**: `resnum 1:5`\n",
    "-   `name ATOM_NAME` ==> All atom with the same name ex: `name CA`\n",
    "\n",
    "All string selection as `resname` and `name` can be matches with Unix shell-style wildcards:\n",
    "-   `*`select any character\n",
    "-   `[seq]` select any acharacter in `seq`\n",
    "-   `[!seq]` select any acharacter which are not in `seq`  \n",
    "For exemple `GL*` give GLY, GLU, GLN, GLX29.... `GL[YN]` give only GLY & GLN.\n",
    "\n",
    "Allows advance selection with booleans `̀not`, `adn`, `or`, read from left to right.\n",
    "Parenthesis can by used."
   ]
  },
  {
   "cell_type": "code",
   "execution_count": 8,
   "metadata": {},
   "outputs": [
    {
     "name": "stdout",
     "output_type": "stream",
     "text": [
      "Number atoms in groupe 1: 264\n",
      "Number atoms in groupe 2: 242\n",
      "Number atoms in groupe 3: 110\n",
      "Number atoms in groupe 4: 1305\n"
     ]
    }
   ],
   "source": [
    "ag1 = u.select_atoms(\"resname ARG\")\n",
    "ag2 = u.select_atoms(\"resname ARG and not (name H or name O)\")\n",
    "ag3 = u.select_atoms(\"resname ARG and not (name H* or name O)\")\n",
    "ag4 = u.select_atoms(\"(name H* or name O) and not resname ARG\")\n",
    "\n",
    "print(f\"Number atoms in grǹumpyoupe 1: {len(ag1)}\")\n",
    "print(f\"Number atoms in groupe 2: {len(ag2)}\")\n",
    "print(f\"Number atoms in groupe 3: {len(ag3)}\")\n",
    "print(f\"Number atoms in groupe 4: {len(ag4)}\")\n"
   ]
  },
  {
   "cell_type": "markdown",
   "metadata": {},
   "source": [
    "Others type of selection like nucleic acid, geometric, dynamic selection... are possible.  \n",
    "See the [Atom selection web page](https://userguide.mdanalysis.org/stable/selections.html#selections) for more information."
   ]
  },
  {
   "cell_type": "markdown",
   "metadata": {},
   "source": [
    "##### Selection by index"
   ]
  },
  {
   "cell_type": "markdown",
   "metadata": {},
   "source": [
    "AtomGroup are indexacble and iterable:  \n",
    "An particular atom can be return think to its index indected between bracket."
   ]
  },
  {
   "cell_type": "code",
   "execution_count": 9,
   "metadata": {},
   "outputs": [
    {
     "data": {
      "text/plain": [
       "<Atom 1: N of type N of resname MET, resid 1 and segid SYSTEM>"
      ]
     },
     "execution_count": 9,
     "metadata": {},
     "output_type": "execute_result"
    }
   ],
   "source": [
    "atom0 = u.atoms[0]  # First atom in the all universe\n",
    "atom0"
   ]
  },
  {
   "cell_type": "markdown",
   "metadata": {},
   "source": [
    "A range of selection can be used with slicing (and steps) or by indexing a list:"
   ]
  },
  {
   "cell_type": "code",
   "execution_count": 10,
   "metadata": {},
   "outputs": [
    {
     "name": "stdout",
     "output_type": "stream",
     "text": [
      "Number of atoms in group 1: 3 corresponding to the following indices: [0 2 4]\n"
     ]
    }
   ],
   "source": [
    "ag1 = u.atoms[0:6:2]\n",
    "print(f\"Number of atoms in group 1: {len(ag1)} corresponding to the following indices: {ag1.indices}\")"
   ]
  },
  {
   "cell_type": "code",
   "execution_count": 45,
   "metadata": {},
   "outputs": [
    {
     "name": "stdout",
     "output_type": "stream",
     "text": [
      "Number of atoms in group 1: 6 corresponding to the following indices: [   0    2    3   10 2660    3]\n"
     ]
    }
   ],
   "source": [
    "idx_list = [0, 2, 3, 10, -1, 3]\n",
    "ag2 = u.atoms[idx_list]\n",
    "print(f\"Number of atoms in group 1: {len(ag2)} corresponding to the following indices: {ag2.indices}\")"
   ]
  },
  {
   "cell_type": "markdown",
   "metadata": {},
   "source": [
    "*Note:*\n",
    "-   *The methode `.indices` returns the indeces of the selected atoms in the `AtomGroup` object as an numpy ndarray*\n",
    "-   *It is possible to select two times or more the same atom*"
   ]
  },
  {
   "cell_type": "code",
   "execution_count": 15,
   "metadata": {},
   "outputs": [
    {
     "data": {
      "text/plain": [
       "numpy.ndarray"
      ]
     },
     "execution_count": 15,
     "metadata": {},
     "output_type": "execute_result"
    }
   ],
   "source": [
    "type(ag2.indices)"
   ]
  },
  {
   "cell_type": "markdown",
   "metadata": {},
   "source": [
    "Creation of a group via a list of atom and the function `AtomGroup()`"
   ]
  },
  {
   "cell_type": "code",
   "execution_count": 55,
   "metadata": {},
   "outputs": [],
   "source": [
    "atom1 = u.atoms[10]\n",
    "atom2 = u.atoms[100]\n",
    "atom3 = u.atoms[1000]\n",
    "list_atoms = [atom1, atom2, atom3]\n",
    "ag3 = mda.AtomGroup(list_atoms)"
   ]
  },
  {
   "cell_type": "code",
   "execution_count": 56,
   "metadata": {},
   "outputs": [
    {
     "name": "stdout",
     "output_type": "stream",
     "text": [
      "<Atom 11: HG1 of type H of resname MET, resid 1 and segid SYSTEM>\n",
      "<Atom 101: CB of type C of resname GLU, resid 7 and segid SYSTEM>\n",
      "<Atom 1001: NH1 of type N of resname ARG, resid 63 and segid SYSTEM>\n"
     ]
    }
   ],
   "source": [
    "for atom in ag3:\n",
    "    print(atom)\n",
    "    "
   ]
  },
  {
   "cell_type": "markdown",
   "metadata": {},
   "source": [
    "#### Group operator and set methods"
   ]
  },
  {
   "cell_type": "markdown",
   "metadata": {},
   "source": [
    "Group operator and set operator acheive similar outcome: compare and construc new groups from differents `AtomGroup`.\n",
    "-   Group operator:\n",
    "    -   `+`, `.concatenate()`, `-`, `.substract()`\n",
    "    -   Keep all atoms of the two groups, preseveing the order of each groups"
   ]
  },
  {
   "cell_type": "code",
   "execution_count": 46,
   "metadata": {},
   "outputs": [
    {
     "name": "stdout",
     "output_type": "stream",
     "text": [
      "ag1: [0 2 4]\n",
      "ag2: [   0    2    3   10 2660    3]\n",
      "plus: [   0    2    4    0    2    3   10 2660    3]\n",
      "concat: [   0    2    4    0    2    3   10 2660    3]\n"
     ]
    }
   ],
   "source": [
    "# New group with element of all elements from ag1 & from ag2\n",
    "plus = ag1 + ag2\n",
    "concat = ag1.concatenate(ag2)\n",
    "print(f\"ag1: {ag1.indices}\")\n",
    "print(f\"ag2: {ag2.indices}\")\n",
    "print(f\"plus: {plus.indices}\")\n",
    "print(f\"concat: {concat.indices}\")\n"
   ]
  },
  {
   "cell_type": "code",
   "execution_count": 53,
   "metadata": {},
   "outputs": [
    {
     "name": "stdout",
     "output_type": "stream",
     "text": [
      "substrate: [   3   10 2660    3]\n"
     ]
    }
   ],
   "source": [
    "# New group with element of all elements from ag2 that are not in ag1\n",
    "subs = ag2.subtract(ag1)\n",
    "print(f\"substrate: {subs.indices}\")"
   ]
  },
  {
   "cell_type": "markdown",
   "metadata": {},
   "source": [
    "-   Set methods\n",
    "    -   `|`, `.union()`, `.difference()`\n",
    "    -   Return **UNIQUE** and **topology ORDERED** `AtomGroup`"
   ]
  },
  {
   "cell_type": "code",
   "execution_count": 48,
   "metadata": {},
   "outputs": [
    {
     "name": "stdout",
     "output_type": "stream",
     "text": [
      "ag1: [0 2 4]\n",
      "ag2: [   0    2    3   10 2660    3]\n",
      "uni_symbol: [   0    2    3    4   10 2660]\n",
      "uni_function: [   0    2    3    4   10 2660]\n"
     ]
    }
   ],
   "source": [
    "# Union: Element from both ag1 and ag2\n",
    "uni_symbol = ag1 | ag2\n",
    "uni_function = ag1.union(ag2)\n",
    "print(f\"ag1: {ag1.indices}\")\n",
    "print(f\"ag2: {ag2.indices}\")\n",
    "print(f\"uni_symbol: {uni_symbol.indices}\")\n",
    "print(f\"uni_function: {uni_function.indices}\")\n"
   ]
  },
  {
   "cell_type": "code",
   "execution_count": 54,
   "metadata": {},
   "outputs": [
    {
     "name": "stdout",
     "output_type": "stream",
     "text": [
      "minus 1-2: [4]\n",
      "dif 1-2: [4]\n",
      "minus 2-1 : [   3   10 2660]\n",
      "dif 2-1: [   3   10 2660]\n"
     ]
    }
   ],
   "source": [
    "# Difference: In ag1 but not in ag2\n",
    "minus_1_2 = ag1 - ag2\n",
    "dif_1_2 = ag1.difference(ag2)\n",
    "print(f\"minus 1-2: {minus_1_2.indices}\")\n",
    "print(f\"dif 1-2: {dif_1_2.indices}\")\n",
    "\n",
    "# In ag2 but not in ag1\n",
    "minus_2_1 = ag2 - ag1\n",
    "dif_2_1 = ag2.difference(ag1)\n",
    "print(f\"minus 2-1 : {minus_2_1.indices}\")\n",
    "print(f\"dif 2-1: {dif_2_1.indices}\")\n"
   ]
  },
  {
   "cell_type": "markdown",
   "metadata": {},
   "source": [
    "*Remark: The order is important !*"
   ]
  },
  {
   "cell_type": "code",
   "execution_count": 52,
   "metadata": {},
   "outputs": [
    {
     "name": "stdout",
     "output_type": "stream",
     "text": [
      "and_symb : [0 2]\n",
      "inter : [0 2]\n"
     ]
    }
   ],
   "source": [
    "# Intersection: Element common in ag1 and ag2\n",
    "and_symb = ag1 & ag2\n",
    "inter = ag1.intersection(ag2)\n",
    "print(f\"and_symb : {and_symb.indices}\")\n",
    "print(f\"inter : {inter.indices}\")"
   ]
  },
  {
   "cell_type": "markdown",
   "metadata": {},
   "source": [
    "### Trajectory"
   ]
  },
  {
   "cell_type": "markdown",
   "metadata": {},
   "source": [
    "MDAnalysis does not load all the frame of the trajectory in order to save the memory.  \n",
    "The universe has a state wiht a particular time step associated to a trajectory.  \n",
    "When the time step change ==> Data associted shifts also"
   ]
  },
  {
   "cell_type": "markdown",
   "metadata": {},
   "source": [
    "Every time step is indexed to a list accessible trough the `.trajectory`"
   ]
  },
  {
   "cell_type": "code",
   "execution_count": 61,
   "metadata": {},
   "outputs": [
    {
     "name": "stdout",
     "output_type": "stream",
     "text": [
      "<class 'MDAnalysis.coordinates.XTC.XTCReader'>\n",
      "5674\n",
      " First time setp: < Timestep 0 with unit cell dimensions [88.99272 88.99272 88.99272 90.      90.      90.     ] >;\n",
      " Last time step: < Timestep 5673 with unit cell dimensions [89.05934 89.05934 89.05934 90.      90.      90.     ] >\n"
     ]
    }
   ],
   "source": [
    "print(type(u.trajectory))\n",
    "print(len(u.trajectory))\n",
    "print(f\" First time setp: {u.trajectory[0]};\\n Last time step: {u.trajectory[-1]}\")"
   ]
  },
  {
   "cell_type": "markdown",
   "metadata": {},
   "source": [
    "In fact, the universe keep in memory only the last time step call"
   ]
  },
  {
   "cell_type": "code",
   "execution_count": 71,
   "metadata": {},
   "outputs": [
    {
     "name": "stdout",
     "output_type": "stream",
     "text": [
      "Time of the 1st frame: 10.0 ps\n",
      "Time of the 10th frame: 100.0 ps\n",
      "Time of the 100th frame: 1000.0 ps\n",
      "Time of the last frame: 56730.0 ps\n"
     ]
    }
   ],
   "source": [
    "u.trajectory[1]\n",
    "print(f\"Time of the 1st frame: {u.trajectory.time} ps\")\n",
    "u.trajectory[10]\n",
    "print(f\"Time of the 10th frame: {u.trajectory.time} ps\")\n",
    "u.trajectory[100]\n",
    "print(f\"Time of the 100th frame: {u.trajectory.time} ps\")\n",
    "u.trajectory[-1]\n",
    "print(f\"Time of the last frame: {u.trajectory.time} ps\")"
   ]
  },
  {
   "cell_type": "markdown",
   "metadata": {},
   "source": [
    "Trajectory can also be sliced in order to work only on a part of the simulation"
   ]
  },
  {
   "cell_type": "code",
   "execution_count": 69,
   "metadata": {},
   "outputs": [
    {
     "name": "stdout",
     "output_type": "stream",
     "text": [
      "frame:   0, time:     0 ps\n",
      "frame: 100, time:  1000 ps\n",
      "frame: 200, time:  2000 ps\n",
      "frame: 300, time:  3000 ps\n",
      "frame: 400, time:  4000 ps\n"
     ]
    }
   ],
   "source": [
    "for ts in u.trajectory[:500:100]:\n",
    "    print(f\"frame: {ts.frame:>3}, time: {ts.time:>5.0f} ps\")"
   ]
  },
  {
   "cell_type": "markdown",
   "metadata": {},
   "source": [
    "## Analysis"
   ]
  },
  {
   "cell_type": "markdown",
   "metadata": {},
   "source": [
    "The main goal of this package is to analyse trajectory of Molecular Dynamic Simulation.\n",
    "The module MDanalysis.analysis contain all the dependecies for the analys e.g. rmsd, align..."
   ]
  },
  {
   "cell_type": "markdown",
   "metadata": {},
   "source": [
    "### Alignment"
   ]
  },
  {
   "cell_type": "markdown",
   "metadata": {},
   "source": [
    "Since the protein moves inside the box, it is mandatory to align the structure duricng the trajectory with a reference one (e.g. the 1st frame)  \n",
    "This action can be done with the function `.AlignTraj` of the dependecie `align`"
   ]
  },
  {
   "cell_type": "code",
   "execution_count": 7,
   "metadata": {},
   "outputs": [
    {
     "name": "stderr",
     "output_type": "stream",
     "text": [
      "/home/sdv/m2isdd/pho/.conda/envs/md-analysis/lib/python3.12/site-packages/Bio/Application/__init__.py:39: BiopythonDeprecationWarning: The Bio.Application modules and modules relying on it have been deprecated.\n",
      "\n",
      "Due to the on going maintenance burden of keeping command line application\n",
      "wrappers up to date, we have decided to deprecate and eventually remove these\n",
      "modules.\n",
      "\n",
      "We instead now recommend building your command line and invoking it directly\n",
      "with the subprocess module.\n",
      "  warnings.warn(\n"
     ]
    }
   ],
   "source": [
    "from MDAnalysis.analysis import align"
   ]
  },
  {
   "cell_type": "markdown",
   "metadata": {},
   "source": [
    "Since MDAnalysis does not conserved the information when the frame is changed, the method `.AlignTraj` enable to save the new trajectory in a other file.  \n",
    "If the trajectory is not save, the method will have not effect on the original one.  "
   ]
  },
  {
   "cell_type": "code",
   "execution_count": 9,
   "metadata": {},
   "outputs": [],
   "source": [
    "ref = u.copy()  # Make a copy to conserve the original trajectory\n",
    "                # If no copy ==> The trajectory of the reference can be modified during the alignment"
   ]
  },
  {
   "cell_type": "code",
   "execution_count": 80,
   "metadata": {},
   "outputs": [
    {
     "data": {
      "text/plain": [
       "<MDAnalysis.analysis.align.AlignTraj at 0x722b003aab70>"
      ]
     },
     "execution_count": 80,
     "metadata": {},
     "output_type": "execute_result"
    }
   ],
   "source": [
    "ref.trajectory[0]  # Select te reference frame\n",
    "align.AlignTraj(u,  # Trajectory to align\n",
    "                ref,   # Reference frame\n",
    "                select = \"name CA\",  # Alignment on the CA \n",
    "                filename = \"aligned.dcd\",  # File to write the new trajectory\n",
    "                match_atoms = True,  # whether to match atms based on mass\n",
    "                ).run()\n"
   ]
  },
  {
   "cell_type": "markdown",
   "metadata": {},
   "source": [
    "Now the aligned trajecteory is saved in a new file, however the last orignal has conserved its caracteristics"
   ]
  },
  {
   "cell_type": "code",
   "execution_count": 81,
   "metadata": {},
   "outputs": [
    {
     "name": "stderr",
     "output_type": "stream",
     "text": [
      "/home/sdv/m2isdd/pho/.conda/envs/md-analysis/lib/python3.12/site-packages/MDAnalysis/coordinates/DCD.py:165: DeprecationWarning: DCDReader currently makes independent timesteps by copying self.ts while other readers update self.ts inplace. This behavior will be changed in 3.0 to be the same as other readers. Read more at https://github.com/MDAnalysis/mdanalysis/issues/3889 to learn if this change in behavior might affect you.\n",
      "  warnings.warn(\"DCDReader currently makes independent timesteps\"\n"
     ]
    }
   ],
   "source": [
    "# Load the aligned trajectroy in the new unverse\n",
    "aligned_u = mda.Universe(\"npt_onlyprot.gro\", \"aligned.dcd\")"
   ]
  },
  {
   "cell_type": "markdown",
   "metadata": {},
   "source": [
    "It is possible to not write into a file by loading all the trajectory in the memory. This is not a always deasible in case of the big files."
   ]
  },
  {
   "cell_type": "code",
   "execution_count": 10,
   "metadata": {},
   "outputs": [],
   "source": [
    "aligner = align.AlignTraj(u, ref,\n",
    "                          select='name CA',\n",
    "                          in_memory=True).run()"
   ]
  },
  {
   "cell_type": "markdown",
   "metadata": {},
   "source": [
    "This object enable to align all the trajectory of the universe in place. Now all the frame of the unverse are aligned and the calculation of the RMSD and the RMSF can be performed directly.  \n",
    "It can be notice that the code create an object which has a unique function to align the the universe. Chaining method is used to run the alignement, it is equivalent to `aligner.run()`"
   ]
  },
  {
   "cell_type": "markdown",
   "metadata": {},
   "source": [
    "### RMSD"
   ]
  },
  {
   "cell_type": "markdown",
   "metadata": {},
   "source": [
    "$\\text{RMSD} = \\sqrt{\\frac{1}{N} \\sum_{i=1}^{N} \\left( \\left( x_i^{\\text{ref}} - x_i^{\\text{traj}} \\right)^2 + \\left( y_i^{\\text{ref}} - y_i^{\\text{traj}} \\right)^2 + \\left( z_i^{\\text{ref}} - z_i^{\\text{traj}} \\right)^2 \\right)}$\n"
   ]
  },
  {
   "cell_type": "code",
   "execution_count": 11,
   "metadata": {},
   "outputs": [],
   "source": [
    "# Import\n",
    "from MDAnalysis.analysis import rms"
   ]
  },
  {
   "cell_type": "markdown",
   "metadata": {},
   "source": [
    "For the calcul of the RMSD, the superposition of the structure is mandatory since the protein can move inside the box. The function `.RMSD()` can perform this alignement with a given reference. So it is not usefull to performed the previous alignment."
   ]
  },
  {
   "cell_type": "code",
   "execution_count": 12,
   "metadata": {},
   "outputs": [
    {
     "data": {
      "text/plain": [
       "<MDAnalysis.analysis.rms.RMSD at 0x7ccd764bee40>"
      ]
     },
     "execution_count": 12,
     "metadata": {},
     "output_type": "execute_result"
    }
   ],
   "source": [
    "# RMSD analysis\n",
    "rmsd_analysis = rms.RMSD(u,  # Univers to align\n",
    "                u,  # Universe of the reference\n",
    "                select = \"backbone\",  # Group to superimpose and calculate RMSD\n",
    "                ref_frame = 0)  # frame index of the reference\n",
    "rmsd_analysis.run()"
   ]
  },
  {
   "cell_type": "markdown",
   "metadata": {},
   "source": [
    "If the alignment has already done, the RMSD can be calculated directly on the unverse:"
   ]
  },
  {
   "cell_type": "code",
   "execution_count": 13,
   "metadata": {},
   "outputs": [],
   "source": [
    "rmsd_analysis = rms.RMSD(u, select=\"backbone\").run()"
   ]
  },
  {
   "cell_type": "markdown",
   "metadata": {},
   "source": [
    "Results are saved in rmsd_analysis.rmsd as an array([frame, time (ns), selections])"
   ]
  },
  {
   "cell_type": "code",
   "execution_count": 14,
   "metadata": {},
   "outputs": [
    {
     "data": {
      "text/plain": [
       "array([ 1.        , 10.        ,  0.98493067])"
      ]
     },
     "execution_count": 14,
     "metadata": {},
     "output_type": "execute_result"
    }
   ],
   "source": [
    "rmsd_analysis.results.rmsd[1]"
   ]
  },
  {
   "cell_type": "code",
   "execution_count": 17,
   "metadata": {},
   "outputs": [
    {
     "data": {
      "text/html": [
       "<div>\n",
       "<style scoped>\n",
       "    .dataframe tbody tr th:only-of-type {\n",
       "        vertical-align: middle;\n",
       "    }\n",
       "\n",
       "    .dataframe tbody tr th {\n",
       "        vertical-align: top;\n",
       "    }\n",
       "\n",
       "    .dataframe thead th {\n",
       "        text-align: right;\n",
       "    }\n",
       "</style>\n",
       "<table border=\"1\" class=\"dataframe\">\n",
       "  <thead>\n",
       "    <tr style=\"text-align: right;\">\n",
       "      <th></th>\n",
       "      <th>Frame</th>\n",
       "      <th>Time</th>\n",
       "      <th>Backbone</th>\n",
       "    </tr>\n",
       "  </thead>\n",
       "  <tbody>\n",
       "    <tr>\n",
       "      <th>5851</th>\n",
       "      <td>5851.0</td>\n",
       "      <td>58510.0</td>\n",
       "      <td>4.667360</td>\n",
       "    </tr>\n",
       "    <tr>\n",
       "      <th>5852</th>\n",
       "      <td>5852.0</td>\n",
       "      <td>58520.0</td>\n",
       "      <td>4.750067</td>\n",
       "    </tr>\n",
       "    <tr>\n",
       "      <th>5853</th>\n",
       "      <td>5853.0</td>\n",
       "      <td>58530.0</td>\n",
       "      <td>4.584274</td>\n",
       "    </tr>\n",
       "    <tr>\n",
       "      <th>5854</th>\n",
       "      <td>5854.0</td>\n",
       "      <td>58540.0</td>\n",
       "      <td>4.528981</td>\n",
       "    </tr>\n",
       "    <tr>\n",
       "      <th>5855</th>\n",
       "      <td>5855.0</td>\n",
       "      <td>58550.0</td>\n",
       "      <td>4.667133</td>\n",
       "    </tr>\n",
       "  </tbody>\n",
       "</table>\n",
       "</div>"
      ],
      "text/plain": [
       "       Frame     Time  Backbone\n",
       "5851  5851.0  58510.0  4.667360\n",
       "5852  5852.0  58520.0  4.750067\n",
       "5853  5853.0  58530.0  4.584274\n",
       "5854  5854.0  58540.0  4.528981\n",
       "5855  5855.0  58550.0  4.667133"
      ]
     },
     "execution_count": 17,
     "metadata": {},
     "output_type": "execute_result"
    }
   ],
   "source": [
    "# Store the rmsd in a dataframe\n",
    "rmsd_df = pd.DataFrame(rmsd_analysis.results.rmsd, columns= [\"Frame\", \"Time\", \"Backbone\"])\n",
    "rmsd_df.tail()"
   ]
  },
  {
   "cell_type": "code",
   "execution_count": 18,
   "metadata": {},
   "outputs": [
    {
     "name": "stderr",
     "output_type": "stream",
     "text": [
      "<>:4: SyntaxWarning: invalid escape sequence '\\A'\n",
      "<>:4: SyntaxWarning: invalid escape sequence '\\A'\n",
      "/tmp/ipykernel_439665/1300453044.py:4: SyntaxWarning: invalid escape sequence '\\A'\n",
      "  plt.ylabel('RMSD ($\\AA$)')\n"
     ]
    },
    {
     "data": {
      "image/png": "[encoded data removed]",
      "text/plain": [
       "<Figure size 640x480 with 1 Axes>"
      ]
     },
     "metadata": {},
     "output_type": "display_data"
    }
   ],
   "source": [
    "# PLot the RMSD\n",
    "plt.plot(rmsd_df[\"Time\"], rmsd_df[\"Backbone\"])\n",
    "plt.xlabel('Time (ps)')\n",
    "plt.ylabel('RMSD ($\\AA$)')\n",
    "plt.show()"
   ]
  },
  {
   "cell_type": "markdown",
   "metadata": {},
   "source": [
    "### RMSF"
   ]
  },
  {
   "cell_type": "markdown",
   "metadata": {},
   "source": [
    "$\\text{RMSF}_i = \\sqrt{\\frac{1}{N} \\sum_{t=1}^{N} \\left( \\left( x_i(t) - \\langle x_i \\rangle \\right)^2 + \\left( y_i(t) - \\langle y_i \\rangle \\right)^2 + \\left( z_i(t) - \\langle z_i \\rangle \\right)^2 \\right)}$\n"
   ]
  },
  {
   "cell_type": "markdown",
   "metadata": {},
   "source": [
    "Analysis of the RMSF which was previoulsy aligned.  \n",
    "The fluctuation is measured by the comparison of the $C\\alpha$"
   ]
  },
  {
   "cell_type": "code",
   "execution_count": 19,
   "metadata": {},
   "outputs": [],
   "source": [
    "c_alphas = u.select_atoms('protein and name CA')\n",
    "rmsf_analysis = rms.RMSF(c_alphas).run()"
   ]
  },
  {
   "cell_type": "code",
   "execution_count": 20,
   "metadata": {},
   "outputs": [
    {
     "name": "stderr",
     "output_type": "stream",
     "text": [
      "<>:3: SyntaxWarning: invalid escape sequence '\\A'\n",
      "<>:3: SyntaxWarning: invalid escape sequence '\\A'\n",
      "/tmp/ipykernel_439665/1215325940.py:3: SyntaxWarning: invalid escape sequence '\\A'\n",
      "  plt.ylabel('RMSF ($\\AA$)')\n"
     ]
    },
    {
     "data": {
      "text/plain": [
       "<matplotlib.legend.Legend at 0x7ccd623eaae0>"
      ]
     },
     "execution_count": 20,
     "metadata": {},
     "output_type": "execute_result"
    },
    {
     "data": {
      "image/png": "[encoded data removed]",
      "text/plain": [
       "<Figure size 640x480 with 1 Axes>"
      ]
     },
     "metadata": {},
     "output_type": "display_data"
    }
   ],
   "source": [
    "plt.plot(c_alphas.resids, rmsf_analysis.results.rmsf)\n",
    "plt.xlabel('Residue number')\n",
    "plt.ylabel('RMSF ($\\AA$)')\n",
    "plt.axvspan(150, 175, zorder=0, alpha=0.2, color='orange', label='???')\n",
    "plt.axvspan(60, 65, zorder=0, alpha=0.2, color='green', label='????')\n",
    "plt.legend()"
   ]
  },
  {
   "cell_type": "markdown",
   "metadata": {},
   "source": [
    "### Radius of Giration"
   ]
  },
  {
   "cell_type": "markdown",
   "metadata": {},
   "source": [
    "The radius of giration measure how the protein is compact, it can be calculated like this:"
   ]
  },
  {
   "cell_type": "markdown",
   "metadata": {},
   "source": [
    "$\\mathbf{r}_{\\text{cm}} = \\frac{\\sum_{i=1}^{N} m_i \\mathbf{r}_i}{\\sum_{i=1}^{N} m_i}$"
   ]
  },
  {
   "cell_type": "markdown",
   "metadata": {},
   "source": [
    "There is no method which caclulate the radius of gyration for all the frame of the simulation. It have to be calculated one by one."
   ]
  },
  {
   "cell_type": "code",
   "execution_count": 23,
   "metadata": {},
   "outputs": [],
   "source": [
    "time = []\n",
    "rgyr = []  # Radius of gyration\n",
    "\n",
    "protein = u.select_atoms(\"protein\")\n",
    "\n",
    "for _ in u.trajectory:  # iterate through all frames\n",
    "    time.append(u.trajectory.time)\n",
    "    \n",
    "    # Use an AtomGroup method\n",
    "    rgyr.append(protein.radius_of_gyration())\n",
    "    \n",
    "# Creation of the dataframe:\n",
    "rgyr_df = pd.DataFrame(rgyr, columns = [\"Radius_of_Gyration\"] ,index=time)\n",
    "rgyr_df.index.name = \"Time\""
   ]
  },
  {
   "cell_type": "code",
   "execution_count": 22,
   "metadata": {},
   "outputs": [
    {
     "name": "stderr",
     "output_type": "stream",
     "text": [
      "<>:6: SyntaxWarning: invalid escape sequence '\\A'\n",
      "<>:6: SyntaxWarning: invalid escape sequence '\\A'\n",
      "/tmp/ipykernel_439665/3237376077.py:6: SyntaxWarning: invalid escape sequence '\\A'\n",
      "  ax.set_ylabel(\"Radius of Gyration ($\\AA$)\")\n"
     ]
    },
    {
     "data": {
      "text/plain": [
       "Text(0, 0.5, 'Radius of Gyration ($\\\\AA$)')"
      ]
     },
     "execution_count": 22,
     "metadata": {},
     "output_type": "execute_result"
    },
    {
     "data": {
      "image/png": "[encoded data removed]",
      "text/plain": [
       "<Figure size 640x480 with 1 Axes>"
      ]
     },
     "metadata": {},
     "output_type": "display_data"
    }
   ],
   "source": [
    "# Plot with Mathplotlib\n",
    "fig, ax = plt.subplots()\n",
    "ax.plot(rgyr_df)\n",
    "ax.set_xlabel(\"Time (ps)\")\n",
    "ax.set_ylabel(\"Radius of Gyration ($\\AA$)\")"
   ]
  }
 ],
 "metadata": {
  "kernelspec": {
   "display_name": "base",
   "language": "python",
   "name": "python3"
  },
  "language_info": {
   "codemirror_mode": {
    "name": "ipython",
    "version": 3
   },
   "file_extension": ".py",
   "mimetype": "text/x-python",
   "name": "python",
   "nbconvert_exporter": "python",
   "pygments_lexer": "ipython3",
   "version": "3.10.14"
  }
 },
 "nbformat": 4,
 "nbformat_minor": 2
}
